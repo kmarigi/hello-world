{
  "nbformat": 4,
  "nbformat_minor": 0,
  "metadata": {
    "colab": {
      "provenance": [],
      "authorship_tag": "ABX9TyPQVwFHhTwZyn/0zQDPLyHs",
      "include_colab_link": true
    },
    "kernelspec": {
      "name": "python3",
      "display_name": "Python 3"
    },
    "language_info": {
      "name": "python"
    }
  },
  "cells": [
    {
      "cell_type": "markdown",
      "metadata": {
        "id": "view-in-github",
        "colab_type": "text"
      },
      "source": [
        "<a href=\"https://colab.research.google.com/github/kmarigi/hello-world/blob/master/LRMforPrediction.ipynb\" target=\"_parent\"><img src=\"https://colab.research.google.com/assets/colab-badge.svg\" alt=\"Open In Colab\"/></a>"
      ]
    },
    {
      "cell_type": "code",
      "execution_count": 1,
      "metadata": {
        "id": "ls2Egy7wHFsW",
        "colab": {
          "base_uri": "https://localhost:8080/"
        },
        "outputId": "f4a8b2a6-840b-4d2b-9bb7-39379f92157b"
      },
      "outputs": [
        {
          "output_type": "stream",
          "name": "stdout",
          "text": [
            "MSE: 860.983657529752\n"
          ]
        }
      ],
      "source": [
        "import random\n",
        "import pandas as pd\n",
        "import numpy as np\n",
        "from sklearn.linear_model import LinearRegression\n",
        "from sklearn.model_selection import train_test_split\n",
        "\n",
        "# Set a random seed for reproducibility.\n",
        "random.seed(42)\n",
        "\n",
        "# Generate 10000 random numbers between 0 and 100.\n",
        "numbers = [random.randint(0, 100) for i in range(10000)]\n",
        "\n",
        "# Create a Pandas DataFrame from the numbers.\n",
        "df = pd.DataFrame({'Date': range(10000), 'Value': numbers})\n",
        "\n",
        "# Split the data into training and testing sets.\n",
        "X_train, X_test, y_train, y_test = train_test_split(df['Date'].values.reshape(-1, 1), df['Value'], test_size=0.2)\n",
        "\n",
        "# Create a linear regression model.\n",
        "model = LinearRegression()\n",
        "\n",
        "# Fit the model to the training data.\n",
        "model.fit(X_train, y_train)\n",
        "\n",
        "# Make predictions on the testing data.\n",
        "predictions = model.predict(X_test)\n",
        "\n",
        "# Evaluate the model.\n",
        "# Calculate the mean squared error (MSE) of the predictions.\n",
        "mse = np.mean((predictions - y_test) ** 2)\n",
        "\n",
        "# Print the MSE.\n",
        "print('MSE:', mse)\n"
      ]
    }
  ]
}