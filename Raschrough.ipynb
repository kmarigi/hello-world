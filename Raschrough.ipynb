{
  "nbformat": 4,
  "nbformat_minor": 0,
  "metadata": {
    "colab": {
      "provenance": [],
      "authorship_tag": "ABX9TyPV0Knz0jabqmuw/ClOtTSK",
      "include_colab_link": true
    },
    "kernelspec": {
      "name": "python3",
      "display_name": "Python 3"
    },
    "language_info": {
      "name": "python"
    }
  },
  "cells": [
    {
      "cell_type": "markdown",
      "metadata": {
        "id": "view-in-github",
        "colab_type": "text"
      },
      "source": [
        "<a href=\"https://colab.research.google.com/github/kmarigi/hello-world/blob/master/Raschrough.ipynb\" target=\"_parent\"><img src=\"https://colab.research.google.com/assets/colab-badge.svg\" alt=\"Open In Colab\"/></a>"
      ]
    },
    {
      "cell_type": "code",
      "execution_count": null,
      "metadata": {
        "id": "w9HvWtPkZ7ad"
      },
      "outputs": [],
      "source": [
        "import numpy as np\n",
        "import pandas as pd\n",
        "import matplotlib.pyplot as plt\n",
        "import statsmodels.api as sm\n",
        "\n",
        "# Load the data\n",
        "from google.colab import files\n",
        "uploaded = files.upload()\n",
        "data = pd.read_csv(\"Mat.csv\")\n",
        "\n",
        "# Create a Rasch model\n",
        "model = sm.Rasch()\n",
        "\n",
        "# Fit the model to the data\n",
        "model.fit(data)\n",
        "\n",
        "# Print the item difficulty estimates\n",
        "print(model.item_difficulty)\n",
        "\n",
        "# Print the person ability estimates\n",
        "print(model.person_ability)\n",
        "\n",
        "# Calculate the probability of each student correctly answering each item\n",
        "probabilities = model.predict(data)\n",
        "\n",
        "# Use the probability of each student correctly answering each item to compare the performance of students on different items, to compare the performance of students in different groups, or to track the progress of students over time.\n",
        "# Print the item difficulty estimates\n",
        "print(model.item_difficulty)\n",
        "\n",
        "# Print the item fit statistics\n",
        "print(model.item_fit)\n",
        "\n",
        "# Print the item bias statistics\n",
        "print(model.item_bias)\n",
        "# Calculate the infit and outfit statistics\n",
        "infit = model.infit\n",
        "outfit = model.outfit\n",
        "\n",
        "# Print the infit and outfit statistics\n",
        "print(infit)\n",
        "print(outfit)\n",
        "\n",
        "# Plot the infit and outfit statistics\n",
        "plt.plot(infit, outfit)\n",
        "plt.show()"
      ]
    }
  ]
}